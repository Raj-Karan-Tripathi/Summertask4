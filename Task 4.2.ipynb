{
 "cells": [
  {
   "cell_type": "code",
   "execution_count": 3,
   "metadata": {},
   "outputs": [],
   "source": [
    "import cv2\n",
    "import numpy as np\n",
    "Rob = cv2.resize(cv2.imread(\"Robot.jpg\"),(1200,800))\n",
    "\n",
    "\n",
    "Hum = cv2.resize(cv2.imread(\"Human.jpg\"),(1200,800))\n",
    "\n",
    "\n",
    "cv2.imshow(\"Robot\",Rob)\n",
    "cv2.waitKey()\n",
    "cv2.destroyAllWindows()\n",
    "\n",
    "\n",
    "crop_Rob = Rob[25:450,420:950]                 \n",
    "cv2.imshow(\"Cropped Robot\",crop_Rob)\n",
    "cv2.waitKey()\n",
    "cv2.destroyAllWindows()\n",
    "\n",
    "#showing 2nd image\n",
    "cv2.imshow(\"Human\",Hum)\n",
    "cv2.waitKey()\n",
    "cv2.destroyAllWindows()\n",
    "\n",
    "crop_Hum = Hum[10:435,300:830]         #storing a cropped portion in cropG         \n",
    "cv2.imshow(\"Cropped Human\",crop_Hum)\n",
    "cv2.waitKey()\n",
    "cv2.destroyAllWindows()\n",
    "\n",
    "\n",
    "crop_Hum = cv2.resize(crop_Hum,(530,425))\n",
    "\n",
    "\n",
    "Hum[10:435,300:830] = crop_Rob   \n",
    "\n",
    "Rob[25:450,420:950] = crop_Hum\n",
    "\n",
    "cv2.imshow(\"Robot\",Rob)\n",
    "cv2.waitKey()\n",
    "cv2.destroyAllWindows()\n",
    "\n",
    "\n",
    "cv2.imshow(\"Human\",Hum)\n",
    "cv2.waitKey()\n",
    "cv2.destroyAllWindows()"
   ]
  },
  {
   "cell_type": "code",
   "execution_count": null,
   "metadata": {},
   "outputs": [],
   "source": []
  },
  {
   "cell_type": "code",
   "execution_count": null,
   "metadata": {},
   "outputs": [],
   "source": []
  },
  {
   "cell_type": "code",
   "execution_count": null,
   "metadata": {},
   "outputs": [],
   "source": []
  },
  {
   "cell_type": "code",
   "execution_count": null,
   "metadata": {},
   "outputs": [],
   "source": []
  },
  {
   "cell_type": "code",
   "execution_count": null,
   "metadata": {},
   "outputs": [],
   "source": []
  },
  {
   "cell_type": "code",
   "execution_count": null,
   "metadata": {},
   "outputs": [],
   "source": []
  },
  {
   "cell_type": "code",
   "execution_count": null,
   "metadata": {},
   "outputs": [],
   "source": []
  },
  {
   "cell_type": "code",
   "execution_count": null,
   "metadata": {},
   "outputs": [],
   "source": []
  },
  {
   "cell_type": "code",
   "execution_count": null,
   "metadata": {},
   "outputs": [],
   "source": []
  },
  {
   "cell_type": "code",
   "execution_count": null,
   "metadata": {},
   "outputs": [],
   "source": []
  },
  {
   "cell_type": "code",
   "execution_count": 1,
   "metadata": {},
   "outputs": [],
   "source": []
  },
  {
   "cell_type": "code",
   "execution_count": 2,
   "metadata": {},
   "outputs": [],
   "source": []
  },
  {
   "cell_type": "code",
   "execution_count": 3,
   "metadata": {},
   "outputs": [],
   "source": []
  },
  {
   "cell_type": "code",
   "execution_count": 4,
   "metadata": {},
   "outputs": [],
   "source": []
  },
  {
   "cell_type": "code",
   "execution_count": 5,
   "metadata": {},
   "outputs": [],
   "source": [
    "\n"
   ]
  },
  {
   "cell_type": "code",
   "execution_count": 6,
   "metadata": {},
   "outputs": [],
   "source": []
  },
  {
   "cell_type": "code",
   "execution_count": 7,
   "metadata": {},
   "outputs": [],
   "source": []
  },
  {
   "cell_type": "code",
   "execution_count": 8,
   "metadata": {},
   "outputs": [],
   "source": []
  },
  {
   "cell_type": "code",
   "execution_count": 9,
   "metadata": {},
   "outputs": [
    {
     "data": {
      "text/plain": [
       "array([[[246, 246, 246],\n",
       "        [246, 246, 246],\n",
       "        [246, 246, 246],\n",
       "        ...,\n",
       "        [246, 246, 246],\n",
       "        [246, 246, 246],\n",
       "        [246, 246, 246]],\n",
       "\n",
       "       [[246, 246, 246],\n",
       "        [246, 246, 246],\n",
       "        [246, 246, 246],\n",
       "        ...,\n",
       "        [246, 246, 246],\n",
       "        [246, 246, 246],\n",
       "        [246, 246, 246]],\n",
       "\n",
       "       [[246, 246, 246],\n",
       "        [246, 246, 246],\n",
       "        [246, 246, 246],\n",
       "        ...,\n",
       "        [246, 246, 246],\n",
       "        [246, 246, 246],\n",
       "        [246, 246, 246]],\n",
       "\n",
       "       ...,\n",
       "\n",
       "       [[246, 246, 246],\n",
       "        [246, 246, 246],\n",
       "        [246, 246, 246],\n",
       "        ...,\n",
       "        [ 97, 101, 226],\n",
       "        [ 98, 101, 227],\n",
       "        [ 94,  97, 225]],\n",
       "\n",
       "       [[246, 246, 246],\n",
       "        [246, 246, 246],\n",
       "        [246, 246, 246],\n",
       "        ...,\n",
       "        [ 96,  99, 226],\n",
       "        [ 96,  99, 227],\n",
       "        [ 95,  97, 226]],\n",
       "\n",
       "       [[246, 246, 246],\n",
       "        [246, 246, 246],\n",
       "        [246, 246, 246],\n",
       "        ...,\n",
       "        [ 93,  98, 225],\n",
       "        [ 93,  97, 225],\n",
       "        [ 94,  98, 226]]], dtype=uint8)"
      ]
     },
     "execution_count": 9,
     "metadata": {},
     "output_type": "execute_result"
    }
   ],
   "source": [
    "crop_Hum"
   ]
  },
  {
   "cell_type": "code",
   "execution_count": 10,
   "metadata": {},
   "outputs": [],
   "source": []
  },
  {
   "cell_type": "code",
   "execution_count": 11,
   "metadata": {},
   "outputs": [],
   "source": []
  },
  {
   "cell_type": "code",
   "execution_count": 12,
   "metadata": {},
   "outputs": [],
   "source": []
  },
  {
   "cell_type": "code",
   "execution_count": 13,
   "metadata": {},
   "outputs": [],
   "source": []
  },
  {
   "cell_type": "code",
   "execution_count": null,
   "metadata": {},
   "outputs": [],
   "source": []
  },
  {
   "cell_type": "code",
   "execution_count": null,
   "metadata": {},
   "outputs": [],
   "source": []
  }
 ],
 "metadata": {
  "kernelspec": {
   "display_name": "Python 3",
   "language": "python",
   "name": "python3"
  },
  "language_info": {
   "codemirror_mode": {
    "name": "ipython",
    "version": 3
   },
   "file_extension": ".py",
   "mimetype": "text/x-python",
   "name": "python",
   "nbconvert_exporter": "python",
   "pygments_lexer": "ipython3",
   "version": "3.8.3"
  }
 },
 "nbformat": 4,
 "nbformat_minor": 4
}
