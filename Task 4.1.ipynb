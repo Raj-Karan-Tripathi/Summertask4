{
 "cells": [
  {
   "cell_type": "code",
   "execution_count": 119,
   "metadata": {},
   "outputs": [],
   "source": [
    "import numpy as np\n",
    "import cv2 \n",
    "Raj_img = np.zeros((2000,1500,3), dtype=\"uint8\")\n",
    "for i in range(0,5000):\n",
    "    #radius = np.random.randint(0,high=50)\n",
    "    color = np.random.randint(0, high=1000, size=(3,)).tolist()\n",
    "    #pt = np.random.randint(0,high=5000, size=(2,))\n",
    "    #cv2.circle(Raj_img, tuple(pt), radius , color ,-1)\n",
    "    sp = np.random.randint(0,high = 50,size=(2,))\n",
    "    ep = np.random.randint(0,high = 5000,size=(2,))\n",
    "    cv2.rectangle(Raj_img,sp,ep, color ,10) \n",
    "    \n",
    "cv2.imshow(\"Created by Raj\" ,Raj_img)\n",
    "cv2.waitKey()\n",
    "cv2.destroyAllWindows()\n"
   ]
  },
  {
   "cell_type": "code",
   "execution_count": 49,
   "metadata": {},
   "outputs": [],
   "source": []
  },
  {
   "cell_type": "code",
   "execution_count": 50,
   "metadata": {},
   "outputs": [],
   "source": []
  },
  {
   "cell_type": "code",
   "execution_count": null,
   "metadata": {},
   "outputs": [],
   "source": []
  },
  {
   "cell_type": "code",
   "execution_count": null,
   "metadata": {},
   "outputs": [],
   "source": []
  },
  {
   "cell_type": "code",
   "execution_count": null,
   "metadata": {},
   "outputs": [],
   "source": []
  },
  {
   "cell_type": "code",
   "execution_count": null,
   "metadata": {},
   "outputs": [],
   "source": []
  },
  {
   "cell_type": "code",
   "execution_count": null,
   "metadata": {},
   "outputs": [],
   "source": []
  },
  {
   "cell_type": "code",
   "execution_count": null,
   "metadata": {},
   "outputs": [],
   "source": []
  },
  {
   "cell_type": "code",
   "execution_count": 120,
   "metadata": {},
   "outputs": [],
   "source": [
    "import cv2 \n",
    "import numpy as np\n",
    "\n",
    "black = np.zeros([1480,1000,3], np.uint8)                      \n"
   ]
  },
  {
   "cell_type": "code",
   "execution_count": 121,
   "metadata": {},
   "outputs": [],
   "source": [
    "Raj_img = cv2.circle(black, (230,150),50,[240,255,100],2)             \n",
    "Raj_img = cv2.circle(Raj_img,(200,140),10,[240,255,0],1)               \n",
    "Raj_img = cv2.circle(Raj_img,(260,140),10,[240,255,0],1) \n",
    "\n",
    "Raj_img = cv2.circle(black, (520,180),50,[240,255,100],2)             \n",
    "Raj_img = cv2.circle(Raj_img,(530,160),10,[240,255,0],1)               \n",
    "Raj_img = cv2.circle(Raj_img,(510,160),10,[240,255,0],1) \n",
    "\n",
    "Raj_img = cv2.circle(black, (100,180),50,[240,255,100],2)             \n",
    "Raj_img = cv2.circle(Raj_img,(110,160),10,[240,255,0],1)               \n",
    "Raj_img = cv2.circle(Raj_img,(90,160),10,[240,255,0],1) \n",
    "\n",
    "Raj_img = cv2.circle(Raj_img,(510,160),5,[255,255,255],-1)             \n",
    "Raj_img = cv2.circle(Raj_img,(530,160),5,[255,255,255],-1)    \n",
    "\n",
    "Raj_img = cv2.circle(Raj_img,(260,140),5,[255,255,255],-1)             \n",
    "Raj_img = cv2.circle(Raj_img,(200,140),5,[255,255,255],-1) \n",
    "\n",
    "Raj_img = cv2.circle(Raj_img,(228,165),5,[240,255,0],1) \n",
    "Raj_img = cv2.circle(Raj_img,(520,190),5,[240,255,0],1) \n",
    "\n",
    "\n",
    "Raj_img = cv2.rectangle(Raj_img,(214,185),(245,190),(255,255,255),2)   \n",
    "Raj_img = cv2.rectangle(Raj_img,(510,205),(530,215),(255,255,255),2)   \n",
    "\n",
    "\n",
    "Raj_img = cv2.circle(Raj_img,(228,302),100,[240,255,100],2)            \n",
    "Raj_img = cv2.rectangle(Raj_img,(440,230),(600,350),(255,255,255),2) \n",
    "Raj_img = cv2.rectangle(Raj_img,(780,630),(600,350),(255,255,255),2) \n",
    "\n",
    "Raj_img = cv2.circle(Raj_img,(258,602),100,[240,255,100],10)    \n",
    "\n",
    "Raj_img = cv2.rectangle(Raj_img,(800,700),(10,80),(255,255,255),20) \n",
    "\n",
    "\n",
    "\n",
    "Raj_img = cv2.line(Raj_img,(170,255),(190,325),[240,255,100],2)        \n",
    "Raj_img = cv2.line(Raj_img,(290,255),(270,325),[240,255,100],2)       \n",
    "\n",
    "Raj_img = cv2.line(Raj_img,(200,400),(170,435),[240,255,100],2)        \n",
    "Raj_img = cv2.line(Raj_img,(260,400),(290,435),[240,255,100],2)        \n",
    "\n",
    "cv2.imshow(\"My image\", Raj_img)\n",
    "cv2.waitKey()\n",
    "cv2.destroyAllWindows()"
   ]
  },
  {
   "cell_type": "code",
   "execution_count": null,
   "metadata": {},
   "outputs": [],
   "source": []
  },
  {
   "cell_type": "code",
   "execution_count": 66,
   "metadata": {},
   "outputs": [],
   "source": []
  },
  {
   "cell_type": "code",
   "execution_count": 60,
   "metadata": {},
   "outputs": [],
   "source": [
    "\n",
    "\n",
    "\n"
   ]
  },
  {
   "cell_type": "code",
   "execution_count": 61,
   "metadata": {},
   "outputs": [],
   "source": []
  },
  {
   "cell_type": "code",
   "execution_count": 62,
   "metadata": {},
   "outputs": [],
   "source": []
  },
  {
   "cell_type": "code",
   "execution_count": null,
   "metadata": {},
   "outputs": [],
   "source": []
  },
  {
   "cell_type": "code",
   "execution_count": null,
   "metadata": {},
   "outputs": [],
   "source": []
  },
  {
   "cell_type": "code",
   "execution_count": 30,
   "metadata": {},
   "outputs": [],
   "source": []
  },
  {
   "cell_type": "code",
   "execution_count": null,
   "metadata": {},
   "outputs": [],
   "source": []
  },
  {
   "cell_type": "code",
   "execution_count": null,
   "metadata": {},
   "outputs": [],
   "source": []
  },
  {
   "cell_type": "code",
   "execution_count": null,
   "metadata": {},
   "outputs": [],
   "source": []
  },
  {
   "cell_type": "code",
   "execution_count": 122,
   "metadata": {},
   "outputs": [],
   "source": [
    "import numpy as np\n",
    "import cv2 \n",
    "raj_im=np.zeros((1500,1200,3))\n",
    "raj_im[:200,56:1200]=[200,0,190]\n",
    "raj_im[200:320,:1340]=[56,4,0]\n",
    "raj_im[400:574,:1500]=[0,1,24]"
   ]
  },
  {
   "cell_type": "code",
   "execution_count": 123,
   "metadata": {},
   "outputs": [],
   "source": [
    "cv2.imshow('Raj_image ',raj_im)\n",
    "cv2.waitKey()\n",
    "cv2.destroyAllWindows()"
   ]
  },
  {
   "cell_type": "code",
   "execution_count": null,
   "metadata": {},
   "outputs": [],
   "source": []
  },
  {
   "cell_type": "code",
   "execution_count": null,
   "metadata": {},
   "outputs": [],
   "source": []
  },
  {
   "cell_type": "code",
   "execution_count": null,
   "metadata": {},
   "outputs": [],
   "source": []
  },
  {
   "cell_type": "code",
   "execution_count": null,
   "metadata": {},
   "outputs": [],
   "source": []
  },
  {
   "cell_type": "code",
   "execution_count": null,
   "metadata": {},
   "outputs": [],
   "source": []
  },
  {
   "cell_type": "code",
   "execution_count": null,
   "metadata": {},
   "outputs": [],
   "source": []
  },
  {
   "cell_type": "code",
   "execution_count": null,
   "metadata": {},
   "outputs": [],
   "source": []
  }
 ],
 "metadata": {
  "kernelspec": {
   "display_name": "Python 3",
   "language": "python",
   "name": "python3"
  },
  "language_info": {
   "codemirror_mode": {
    "name": "ipython",
    "version": 3
   },
   "file_extension": ".py",
   "mimetype": "text/x-python",
   "name": "python",
   "nbconvert_exporter": "python",
   "pygments_lexer": "ipython3",
   "version": "3.8.3"
  }
 },
 "nbformat": 4,
 "nbformat_minor": 4
}
